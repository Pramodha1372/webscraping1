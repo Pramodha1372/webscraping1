{
 "cells": [
  {
   "cell_type": "code",
   "execution_count": 1,
   "id": "a72f997c",
   "metadata": {},
   "outputs": [],
   "source": [
    "import requests\n",
    "import re\n",
    "import numpy as np\n",
    "import pandas as pd"
   ]
  },
  {
   "cell_type": "code",
   "execution_count": 2,
   "id": "acf58235",
   "metadata": {},
   "outputs": [],
   "source": [
    "url = 'https://www.flipkart.com/search?q=laptops&sid=6bo%2Cb5g&as=on&as-show=on&otracker=AS_QueryStore_OrganicAutoSuggest_1_7_na_na_ps&otracker1=AS_QueryStore_OrganicAutoSuggest_1_7_na_na_ps&as-pos=1&as-type=HISTORY&suggestionId=laptops%7CLaptops&requestId=34f26293-f794-4dd1-a9d4-8b19cc759f81'"
   ]
  },
  {
   "cell_type": "code",
   "execution_count": 3,
   "id": "49f6d4d4",
   "metadata": {},
   "outputs": [],
   "source": [
    "page = requests.get(url)"
   ]
  },
  {
   "cell_type": "code",
   "execution_count": 4,
   "id": "c37a7583",
   "metadata": {},
   "outputs": [],
   "source": [
    "from bs4 import BeautifulSoup"
   ]
  },
  {
   "cell_type": "code",
   "execution_count": 5,
   "id": "bf3ca7a8",
   "metadata": {},
   "outputs": [],
   "source": [
    "soup = BeautifulSoup(page.text)"
   ]
  },
  {
   "cell_type": "markdown",
   "id": "1a90832d",
   "metadata": {},
   "source": [
    "- Brand\n",
    "- Rating\n",
    "- No.of Ratings\n",
    "- No.of Reviews\n",
    "- Price\n",
    "- Screen size\n",
    "- SSD"
   ]
  },
  {
   "cell_type": "code",
   "execution_count": 6,
   "id": "0a4f3b28",
   "metadata": {},
   "outputs": [],
   "source": [
    "brand=[]\n",
    "for i in soup.find_all(\"div\",class_=\"_4rR01T\"):\n",
    "    text=i.text\n",
    "    regex=re.findall(\"\\w+\",text)\n",
    "    if regex:\n",
    "        brand.append(regex[0])\n",
    "    else:\n",
    "        brand.append(np.nan)"
   ]
  },
  {
   "cell_type": "code",
   "execution_count": 7,
   "id": "651a83d8",
   "metadata": {},
   "outputs": [
    {
     "data": {
      "text/plain": [
       "['realme',\n",
       " 'realme',\n",
       " 'ASUS',\n",
       " 'ASUS',\n",
       " 'Infinix',\n",
       " 'APPLE',\n",
       " 'Lenovo',\n",
       " 'Lenovo',\n",
       " 'Acer',\n",
       " 'Lenovo',\n",
       " 'realme',\n",
       " 'Lenovo',\n",
       " 'HP',\n",
       " 'ASUS',\n",
       " 'HP',\n",
       " 'HP',\n",
       " 'Lenovo',\n",
       " 'Lenovo',\n",
       " 'MSI',\n",
       " 'DELL',\n",
       " 'realme',\n",
       " 'Lenovo',\n",
       " 'HP',\n",
       " 'Acer']"
      ]
     },
     "execution_count": 7,
     "metadata": {},
     "output_type": "execute_result"
    }
   ],
   "source": [
    "brand"
   ]
  },
  {
   "cell_type": "code",
   "execution_count": 8,
   "id": "796843f3",
   "metadata": {},
   "outputs": [
    {
     "data": {
      "text/plain": [
       "24"
      ]
     },
     "execution_count": 8,
     "metadata": {},
     "output_type": "execute_result"
    }
   ],
   "source": [
    "len(brand)"
   ]
  },
  {
   "cell_type": "code",
   "execution_count": 9,
   "id": "a5717317",
   "metadata": {},
   "outputs": [],
   "source": [
    "rating=[]\n",
    "for i in soup.find_all(\"div\" , class_ = \"gUuXy-\"):\n",
    "    rate=i.find(\"div\", class_ = \"_3LWZlK\")\n",
    "    if rate:\n",
    "        rating.append(rate.text)\n",
    "    else:\n",
    "        rating.append(np.nan)"
   ]
  },
  {
   "cell_type": "code",
   "execution_count": 10,
   "id": "f58ad61f",
   "metadata": {},
   "outputs": [
    {
     "data": {
      "text/plain": [
       "['4.4',\n",
       " '4.3',\n",
       " '4.3',\n",
       " '4.3',\n",
       " '4.6',\n",
       " '4.7',\n",
       " '4.2',\n",
       " '4.3',\n",
       " '4.2',\n",
       " '4.2',\n",
       " '3.9',\n",
       " '3.8',\n",
       " '4.3',\n",
       " '4.3',\n",
       " '4.1',\n",
       " '4',\n",
       " '4.3',\n",
       " '4.5',\n",
       " '4.4',\n",
       " '4.1',\n",
       " '4.3',\n",
       " '4',\n",
       " '4.3',\n",
       " '4.2']"
      ]
     },
     "execution_count": 10,
     "metadata": {},
     "output_type": "execute_result"
    }
   ],
   "source": [
    "rating"
   ]
  },
  {
   "cell_type": "code",
   "execution_count": 11,
   "id": "5c345014",
   "metadata": {},
   "outputs": [
    {
     "data": {
      "text/plain": [
       "24"
      ]
     },
     "execution_count": 11,
     "metadata": {},
     "output_type": "execute_result"
    }
   ],
   "source": [
    "len(rating)"
   ]
  },
  {
   "cell_type": "code",
   "execution_count": 12,
   "id": "65c31cbf",
   "metadata": {},
   "outputs": [],
   "source": [
    "num=[]\n",
    "for i in soup.find_all(\"div\",class_=\"gUuXy-\"):\n",
    "    n=i.find(\"span\",class_=\"_2_R_DZ\")\n",
    "    if n:\n",
    "        num.append(n.text)\n",
    "    else:\n",
    "        num.append(np.nan)"
   ]
  },
  {
   "cell_type": "code",
   "execution_count": 13,
   "id": "625678d5",
   "metadata": {},
   "outputs": [
    {
     "data": {
      "text/plain": [
       "['14,640 Ratings\\xa0&\\xa02,087 Reviews',\n",
       " '346 Ratings\\xa0&\\xa057 Reviews',\n",
       " '6,091 Ratings\\xa0&\\xa0597 Reviews',\n",
       " '3,022 Ratings\\xa0&\\xa0237 Reviews',\n",
       " '27 Ratings\\xa0&\\xa06 Reviews',\n",
       " '11,480 Ratings\\xa0&\\xa0992 Reviews',\n",
       " '530 Ratings\\xa0&\\xa066 Reviews',\n",
       " '2,426 Ratings\\xa0&\\xa0252 Reviews',\n",
       " '233 Ratings\\xa0&\\xa032 Reviews',\n",
       " '7,088 Ratings\\xa0&\\xa0652 Reviews',\n",
       " '144 Ratings\\xa0&\\xa018 Reviews',\n",
       " '18 Ratings\\xa0&\\xa01 Reviews',\n",
       " '1,737 Ratings\\xa0&\\xa0126 Reviews',\n",
       " '6,091 Ratings\\xa0&\\xa0597 Reviews',\n",
       " '383 Ratings\\xa0&\\xa026 Reviews',\n",
       " '1,919 Ratings\\xa0&\\xa0167 Reviews',\n",
       " '2,426 Ratings\\xa0&\\xa0252 Reviews',\n",
       " '53 Ratings\\xa0&\\xa012 Reviews',\n",
       " '539 Ratings\\xa0&\\xa074 Reviews',\n",
       " '186 Ratings\\xa0&\\xa023 Reviews',\n",
       " '55 Ratings\\xa0&\\xa08 Reviews',\n",
       " '259 Ratings\\xa0&\\xa026 Reviews',\n",
       " '3,800 Ratings\\xa0&\\xa0311 Reviews',\n",
       " '233 Ratings\\xa0&\\xa032 Reviews']"
      ]
     },
     "execution_count": 13,
     "metadata": {},
     "output_type": "execute_result"
    }
   ],
   "source": [
    "num"
   ]
  },
  {
   "cell_type": "code",
   "execution_count": 14,
   "id": "7b4edd20",
   "metadata": {},
   "outputs": [
    {
     "data": {
      "text/plain": [
       "24"
      ]
     },
     "execution_count": 14,
     "metadata": {},
     "output_type": "execute_result"
    }
   ],
   "source": [
    "len(num)"
   ]
  },
  {
   "cell_type": "code",
   "execution_count": 15,
   "id": "d39d7f10",
   "metadata": {},
   "outputs": [],
   "source": [
    "numofratings=[]\n",
    "for i in num:\n",
    "    a=re.findall('(^\\d+?\\,?\\d+)\\s',i)\n",
    "    if len(a)>0:\n",
    "        numofratings.append(a[0])\n",
    "    else:\n",
    "        numofratings.append(np.nan)"
   ]
  },
  {
   "cell_type": "code",
   "execution_count": 16,
   "id": "9d18bbc7",
   "metadata": {},
   "outputs": [
    {
     "data": {
      "text/plain": [
       "['14,640',\n",
       " '346',\n",
       " '6,091',\n",
       " '3,022',\n",
       " '27',\n",
       " '11,480',\n",
       " '530',\n",
       " '2,426',\n",
       " '233',\n",
       " '7,088',\n",
       " '144',\n",
       " '18',\n",
       " '1,737',\n",
       " '6,091',\n",
       " '383',\n",
       " '1,919',\n",
       " '2,426',\n",
       " '53',\n",
       " '539',\n",
       " '186',\n",
       " '55',\n",
       " '259',\n",
       " '3,800',\n",
       " '233']"
      ]
     },
     "execution_count": 16,
     "metadata": {},
     "output_type": "execute_result"
    }
   ],
   "source": [
    "numofratings"
   ]
  },
  {
   "cell_type": "code",
   "execution_count": 17,
   "id": "4a95d9f8",
   "metadata": {},
   "outputs": [
    {
     "data": {
      "text/plain": [
       "24"
      ]
     },
     "execution_count": 17,
     "metadata": {},
     "output_type": "execute_result"
    }
   ],
   "source": [
    "len(numofratings)"
   ]
  },
  {
   "cell_type": "code",
   "execution_count": 18,
   "id": "54148c60",
   "metadata": {},
   "outputs": [
    {
     "data": {
      "text/plain": [
       "['14,640 Ratings\\xa0&\\xa02,087 Reviews',\n",
       " '346 Ratings\\xa0&\\xa057 Reviews',\n",
       " '6,091 Ratings\\xa0&\\xa0597 Reviews',\n",
       " '3,022 Ratings\\xa0&\\xa0237 Reviews',\n",
       " '27 Ratings\\xa0&\\xa06 Reviews',\n",
       " '11,480 Ratings\\xa0&\\xa0992 Reviews',\n",
       " '530 Ratings\\xa0&\\xa066 Reviews',\n",
       " '2,426 Ratings\\xa0&\\xa0252 Reviews',\n",
       " '233 Ratings\\xa0&\\xa032 Reviews',\n",
       " '7,088 Ratings\\xa0&\\xa0652 Reviews',\n",
       " '144 Ratings\\xa0&\\xa018 Reviews',\n",
       " '18 Ratings\\xa0&\\xa01 Reviews',\n",
       " '1,737 Ratings\\xa0&\\xa0126 Reviews',\n",
       " '6,091 Ratings\\xa0&\\xa0597 Reviews',\n",
       " '383 Ratings\\xa0&\\xa026 Reviews',\n",
       " '1,919 Ratings\\xa0&\\xa0167 Reviews',\n",
       " '2,426 Ratings\\xa0&\\xa0252 Reviews',\n",
       " '53 Ratings\\xa0&\\xa012 Reviews',\n",
       " '539 Ratings\\xa0&\\xa074 Reviews',\n",
       " '186 Ratings\\xa0&\\xa023 Reviews',\n",
       " '55 Ratings\\xa0&\\xa08 Reviews',\n",
       " '259 Ratings\\xa0&\\xa026 Reviews',\n",
       " '3,800 Ratings\\xa0&\\xa0311 Reviews',\n",
       " '233 Ratings\\xa0&\\xa032 Reviews']"
      ]
     },
     "execution_count": 18,
     "metadata": {},
     "output_type": "execute_result"
    }
   ],
   "source": [
    "num"
   ]
  },
  {
   "cell_type": "code",
   "execution_count": 19,
   "id": "5bca05f1",
   "metadata": {},
   "outputs": [],
   "source": [
    "numofreviews=[]\n",
    "for i in num:\n",
    "    a=re.findall('\\s(\\d+?\\,?\\d+)\\s',i)\n",
    "    if len(a)>0:\n",
    "        numofreviews.append(a[0])\n",
    "    else:\n",
    "        numofreviews.append(np.nan)"
   ]
  },
  {
   "cell_type": "code",
   "execution_count": 20,
   "id": "0848c7b5",
   "metadata": {},
   "outputs": [
    {
     "data": {
      "text/plain": [
       "['2,087',\n",
       " '57',\n",
       " '597',\n",
       " '237',\n",
       " nan,\n",
       " '992',\n",
       " '66',\n",
       " '252',\n",
       " '32',\n",
       " '652',\n",
       " '18',\n",
       " nan,\n",
       " '126',\n",
       " '597',\n",
       " '26',\n",
       " '167',\n",
       " '252',\n",
       " '12',\n",
       " '74',\n",
       " '23',\n",
       " nan,\n",
       " '26',\n",
       " '311',\n",
       " '32']"
      ]
     },
     "execution_count": 20,
     "metadata": {},
     "output_type": "execute_result"
    }
   ],
   "source": [
    "numofreviews"
   ]
  },
  {
   "cell_type": "code",
   "execution_count": 21,
   "id": "77613930",
   "metadata": {},
   "outputs": [
    {
     "data": {
      "text/plain": [
       "24"
      ]
     },
     "execution_count": 21,
     "metadata": {},
     "output_type": "execute_result"
    }
   ],
   "source": [
    "len(numofreviews)"
   ]
  },
  {
   "cell_type": "code",
   "execution_count": 22,
   "id": "30435603",
   "metadata": {},
   "outputs": [],
   "source": [
    "price=[]\n",
    "for i in soup.find_all(\"div\",class_=\"_2kHMtA\"):\n",
    "    p=i.find(\"div\",class_=\"_30jeq3 _1_WHN1\")\n",
    "    if p:\n",
    "        price.append(p.text)\n",
    "    else:\n",
    "        price.append(np.nan)"
   ]
  },
  {
   "cell_type": "code",
   "execution_count": 23,
   "id": "3c04777e",
   "metadata": {},
   "outputs": [
    {
     "data": {
      "text/plain": [
       "['₹36,999',\n",
       " '₹56,999',\n",
       " '₹34,990',\n",
       " '₹42,990',\n",
       " '₹40,990',\n",
       " '₹81,990',\n",
       " '₹34,990',\n",
       " '₹47,990',\n",
       " '₹51,990',\n",
       " '₹36,990',\n",
       " '₹47,999',\n",
       " '₹36,990',\n",
       " '₹55,990',\n",
       " '₹31,990',\n",
       " '₹38,990',\n",
       " '₹31,990',\n",
       " '₹44,800',\n",
       " '₹78,990',\n",
       " '₹61,990',\n",
       " '₹55,760',\n",
       " '₹47,999',\n",
       " '₹38,990',\n",
       " '₹37,990',\n",
       " '₹54,990']"
      ]
     },
     "execution_count": 23,
     "metadata": {},
     "output_type": "execute_result"
    }
   ],
   "source": [
    "price"
   ]
  },
  {
   "cell_type": "code",
   "execution_count": 24,
   "id": "9534cd1c",
   "metadata": {},
   "outputs": [
    {
     "data": {
      "text/plain": [
       "24"
      ]
     },
     "execution_count": 24,
     "metadata": {},
     "output_type": "execute_result"
    }
   ],
   "source": [
    "len(price)"
   ]
  },
  {
   "cell_type": "code",
   "execution_count": 25,
   "id": "5a341e5e",
   "metadata": {},
   "outputs": [],
   "source": [
    "ss=[]\n",
    "for i in soup.find_all('div',class_='fMghEO'):\n",
    "    size=i.find('ul',class_='_1xgFaf')\n",
    "    if size:\n",
    "        ss.append(size.text)\n",
    "    else:\n",
    "        ss.append(np.nan)"
   ]
  },
  {
   "cell_type": "code",
   "execution_count": 26,
   "id": "9b0bbe86",
   "metadata": {},
   "outputs": [
    {
     "data": {
      "text/plain": [
       "'Intel Core i3 Processor (12th Gen)8 GB DDR4 RAMWindows 11 Operating System512 GB SSD90.32 cm (35.56 cm) Display2 Year warranty'"
      ]
     },
     "execution_count": 26,
     "metadata": {},
     "output_type": "execute_result"
    }
   ],
   "source": [
    "ss[21]"
   ]
  },
  {
   "cell_type": "code",
   "execution_count": 27,
   "id": "2d214bb2",
   "metadata": {},
   "outputs": [],
   "source": [
    "screensize=[]\n",
    "for i in range (len(ss)):\n",
    "    j = re.findall(\"\\((\\d+?\\.?\\d+)?\\s(?:inch|Inch)\",ss[i])\n",
    "    if j:\n",
    "        screensize.append(j[0])\n",
    "    else:\n",
    "        screensize.append(np.nan)"
   ]
  },
  {
   "cell_type": "code",
   "execution_count": 28,
   "id": "2b2eea76",
   "metadata": {},
   "outputs": [
    {
     "data": {
      "text/plain": [
       "['14',\n",
       " '14',\n",
       " '15.6',\n",
       " '15.6',\n",
       " '14',\n",
       " '13.3',\n",
       " '15.6',\n",
       " '15.6',\n",
       " '15.6',\n",
       " '15.6',\n",
       " '14',\n",
       " '15.6',\n",
       " '15.6',\n",
       " '15.6',\n",
       " '15.6',\n",
       " '15.6',\n",
       " nan,\n",
       " '15.6',\n",
       " '15.6',\n",
       " '15.6',\n",
       " '14',\n",
       " nan,\n",
       " '14',\n",
       " '15.6']"
      ]
     },
     "execution_count": 28,
     "metadata": {},
     "output_type": "execute_result"
    }
   ],
   "source": [
    "screensize"
   ]
  },
  {
   "cell_type": "code",
   "execution_count": 29,
   "id": "ce515b33",
   "metadata": {},
   "outputs": [
    {
     "data": {
      "text/plain": [
       "24"
      ]
     },
     "execution_count": 29,
     "metadata": {},
     "output_type": "execute_result"
    }
   ],
   "source": [
    "len(screensize)"
   ]
  },
  {
   "cell_type": "code",
   "execution_count": 30,
   "id": "0b067779",
   "metadata": {},
   "outputs": [],
   "source": [
    "ssd=[]\n",
    "for i in range (len(ss)):\n",
    "    j = re.findall(\"(\\d+)\\sGB\\sSSD\",ss[i])\n",
    "    if j:\n",
    "        ssd.append(j[0])\n",
    "    else:\n",
    "        ssd.append(np.nan)"
   ]
  },
  {
   "cell_type": "code",
   "execution_count": 31,
   "id": "f7e77fcd",
   "metadata": {},
   "outputs": [
    {
     "data": {
      "text/plain": [
       "['256',\n",
       " '512',\n",
       " '512',\n",
       " '512',\n",
       " '512',\n",
       " '256',\n",
       " '512',\n",
       " '512',\n",
       " '512',\n",
       " '512',\n",
       " '512',\n",
       " '512',\n",
       " '512',\n",
       " '256',\n",
       " '512',\n",
       " '512',\n",
       " '512',\n",
       " '512',\n",
       " '512',\n",
       " '512',\n",
       " '512',\n",
       " '512',\n",
       " '256',\n",
       " '512']"
      ]
     },
     "execution_count": 31,
     "metadata": {},
     "output_type": "execute_result"
    }
   ],
   "source": [
    "ssd"
   ]
  },
  {
   "cell_type": "code",
   "execution_count": 32,
   "id": "1ca1c6ac",
   "metadata": {},
   "outputs": [
    {
     "data": {
      "text/plain": [
       "24"
      ]
     },
     "execution_count": 32,
     "metadata": {},
     "output_type": "execute_result"
    }
   ],
   "source": [
    "len(ssd)"
   ]
  },
  {
   "cell_type": "code",
   "execution_count": 33,
   "id": "0ce2549d",
   "metadata": {},
   "outputs": [],
   "source": [
    "dic = {\n",
    "    'Brand':brand,\n",
    "    'Rating':rating,\n",
    "    'No.of Ratings':numofratings,\n",
    "    'No.of Reviews':numofreviews,\n",
    "    'Price':price,\n",
    "    'Screen size':screensize,\n",
    "    'SSD':ssd\n",
    "}"
   ]
  },
  {
   "cell_type": "code",
   "execution_count": 34,
   "id": "cfd1984c",
   "metadata": {},
   "outputs": [
    {
     "data": {
      "text/plain": [
       "{'Brand': ['realme',\n",
       "  'realme',\n",
       "  'ASUS',\n",
       "  'ASUS',\n",
       "  'Infinix',\n",
       "  'APPLE',\n",
       "  'Lenovo',\n",
       "  'Lenovo',\n",
       "  'Acer',\n",
       "  'Lenovo',\n",
       "  'realme',\n",
       "  'Lenovo',\n",
       "  'HP',\n",
       "  'ASUS',\n",
       "  'HP',\n",
       "  'HP',\n",
       "  'Lenovo',\n",
       "  'Lenovo',\n",
       "  'MSI',\n",
       "  'DELL',\n",
       "  'realme',\n",
       "  'Lenovo',\n",
       "  'HP',\n",
       "  'Acer'],\n",
       " 'Rating': ['4.4',\n",
       "  '4.3',\n",
       "  '4.3',\n",
       "  '4.3',\n",
       "  '4.6',\n",
       "  '4.7',\n",
       "  '4.2',\n",
       "  '4.3',\n",
       "  '4.2',\n",
       "  '4.2',\n",
       "  '3.9',\n",
       "  '3.8',\n",
       "  '4.3',\n",
       "  '4.3',\n",
       "  '4.1',\n",
       "  '4',\n",
       "  '4.3',\n",
       "  '4.5',\n",
       "  '4.4',\n",
       "  '4.1',\n",
       "  '4.3',\n",
       "  '4',\n",
       "  '4.3',\n",
       "  '4.2'],\n",
       " 'No.of Ratings': ['14,640',\n",
       "  '346',\n",
       "  '6,091',\n",
       "  '3,022',\n",
       "  '27',\n",
       "  '11,480',\n",
       "  '530',\n",
       "  '2,426',\n",
       "  '233',\n",
       "  '7,088',\n",
       "  '144',\n",
       "  '18',\n",
       "  '1,737',\n",
       "  '6,091',\n",
       "  '383',\n",
       "  '1,919',\n",
       "  '2,426',\n",
       "  '53',\n",
       "  '539',\n",
       "  '186',\n",
       "  '55',\n",
       "  '259',\n",
       "  '3,800',\n",
       "  '233'],\n",
       " 'No.of Reviews': ['2,087',\n",
       "  '57',\n",
       "  '597',\n",
       "  '237',\n",
       "  nan,\n",
       "  '992',\n",
       "  '66',\n",
       "  '252',\n",
       "  '32',\n",
       "  '652',\n",
       "  '18',\n",
       "  nan,\n",
       "  '126',\n",
       "  '597',\n",
       "  '26',\n",
       "  '167',\n",
       "  '252',\n",
       "  '12',\n",
       "  '74',\n",
       "  '23',\n",
       "  nan,\n",
       "  '26',\n",
       "  '311',\n",
       "  '32'],\n",
       " 'Price': ['₹36,999',\n",
       "  '₹56,999',\n",
       "  '₹34,990',\n",
       "  '₹42,990',\n",
       "  '₹40,990',\n",
       "  '₹81,990',\n",
       "  '₹34,990',\n",
       "  '₹47,990',\n",
       "  '₹51,990',\n",
       "  '₹36,990',\n",
       "  '₹47,999',\n",
       "  '₹36,990',\n",
       "  '₹55,990',\n",
       "  '₹31,990',\n",
       "  '₹38,990',\n",
       "  '₹31,990',\n",
       "  '₹44,800',\n",
       "  '₹78,990',\n",
       "  '₹61,990',\n",
       "  '₹55,760',\n",
       "  '₹47,999',\n",
       "  '₹38,990',\n",
       "  '₹37,990',\n",
       "  '₹54,990'],\n",
       " 'Screen size': ['14',\n",
       "  '14',\n",
       "  '15.6',\n",
       "  '15.6',\n",
       "  '14',\n",
       "  '13.3',\n",
       "  '15.6',\n",
       "  '15.6',\n",
       "  '15.6',\n",
       "  '15.6',\n",
       "  '14',\n",
       "  '15.6',\n",
       "  '15.6',\n",
       "  '15.6',\n",
       "  '15.6',\n",
       "  '15.6',\n",
       "  nan,\n",
       "  '15.6',\n",
       "  '15.6',\n",
       "  '15.6',\n",
       "  '14',\n",
       "  nan,\n",
       "  '14',\n",
       "  '15.6'],\n",
       " 'SSD': ['256',\n",
       "  '512',\n",
       "  '512',\n",
       "  '512',\n",
       "  '512',\n",
       "  '256',\n",
       "  '512',\n",
       "  '512',\n",
       "  '512',\n",
       "  '512',\n",
       "  '512',\n",
       "  '512',\n",
       "  '512',\n",
       "  '256',\n",
       "  '512',\n",
       "  '512',\n",
       "  '512',\n",
       "  '512',\n",
       "  '512',\n",
       "  '512',\n",
       "  '512',\n",
       "  '512',\n",
       "  '256',\n",
       "  '512']}"
      ]
     },
     "execution_count": 34,
     "metadata": {},
     "output_type": "execute_result"
    }
   ],
   "source": [
    "dic"
   ]
  },
  {
   "cell_type": "code",
   "execution_count": 35,
   "id": "aebb2142",
   "metadata": {},
   "outputs": [],
   "source": [
    "df = pd.DataFrame(dic)"
   ]
  },
  {
   "cell_type": "code",
   "execution_count": 36,
   "id": "867732da",
   "metadata": {},
   "outputs": [
    {
     "data": {
      "text/html": [
       "<div>\n",
       "<style scoped>\n",
       "    .dataframe tbody tr th:only-of-type {\n",
       "        vertical-align: middle;\n",
       "    }\n",
       "\n",
       "    .dataframe tbody tr th {\n",
       "        vertical-align: top;\n",
       "    }\n",
       "\n",
       "    .dataframe thead th {\n",
       "        text-align: right;\n",
       "    }\n",
       "</style>\n",
       "<table border=\"1\" class=\"dataframe\">\n",
       "  <thead>\n",
       "    <tr style=\"text-align: right;\">\n",
       "      <th></th>\n",
       "      <th>Brand</th>\n",
       "      <th>Rating</th>\n",
       "      <th>No.of Ratings</th>\n",
       "      <th>No.of Reviews</th>\n",
       "      <th>Price</th>\n",
       "      <th>Screen size</th>\n",
       "      <th>SSD</th>\n",
       "    </tr>\n",
       "  </thead>\n",
       "  <tbody>\n",
       "    <tr>\n",
       "      <th>0</th>\n",
       "      <td>realme</td>\n",
       "      <td>4.4</td>\n",
       "      <td>14,640</td>\n",
       "      <td>2,087</td>\n",
       "      <td>₹36,999</td>\n",
       "      <td>14</td>\n",
       "      <td>256</td>\n",
       "    </tr>\n",
       "    <tr>\n",
       "      <th>1</th>\n",
       "      <td>realme</td>\n",
       "      <td>4.3</td>\n",
       "      <td>346</td>\n",
       "      <td>57</td>\n",
       "      <td>₹56,999</td>\n",
       "      <td>14</td>\n",
       "      <td>512</td>\n",
       "    </tr>\n",
       "    <tr>\n",
       "      <th>2</th>\n",
       "      <td>ASUS</td>\n",
       "      <td>4.3</td>\n",
       "      <td>6,091</td>\n",
       "      <td>597</td>\n",
       "      <td>₹34,990</td>\n",
       "      <td>15.6</td>\n",
       "      <td>512</td>\n",
       "    </tr>\n",
       "    <tr>\n",
       "      <th>3</th>\n",
       "      <td>ASUS</td>\n",
       "      <td>4.3</td>\n",
       "      <td>3,022</td>\n",
       "      <td>237</td>\n",
       "      <td>₹42,990</td>\n",
       "      <td>15.6</td>\n",
       "      <td>512</td>\n",
       "    </tr>\n",
       "    <tr>\n",
       "      <th>4</th>\n",
       "      <td>Infinix</td>\n",
       "      <td>4.6</td>\n",
       "      <td>27</td>\n",
       "      <td>NaN</td>\n",
       "      <td>₹40,990</td>\n",
       "      <td>14</td>\n",
       "      <td>512</td>\n",
       "    </tr>\n",
       "    <tr>\n",
       "      <th>5</th>\n",
       "      <td>APPLE</td>\n",
       "      <td>4.7</td>\n",
       "      <td>11,480</td>\n",
       "      <td>992</td>\n",
       "      <td>₹81,990</td>\n",
       "      <td>13.3</td>\n",
       "      <td>256</td>\n",
       "    </tr>\n",
       "    <tr>\n",
       "      <th>6</th>\n",
       "      <td>Lenovo</td>\n",
       "      <td>4.2</td>\n",
       "      <td>530</td>\n",
       "      <td>66</td>\n",
       "      <td>₹34,990</td>\n",
       "      <td>15.6</td>\n",
       "      <td>512</td>\n",
       "    </tr>\n",
       "    <tr>\n",
       "      <th>7</th>\n",
       "      <td>Lenovo</td>\n",
       "      <td>4.3</td>\n",
       "      <td>2,426</td>\n",
       "      <td>252</td>\n",
       "      <td>₹47,990</td>\n",
       "      <td>15.6</td>\n",
       "      <td>512</td>\n",
       "    </tr>\n",
       "    <tr>\n",
       "      <th>8</th>\n",
       "      <td>Acer</td>\n",
       "      <td>4.2</td>\n",
       "      <td>233</td>\n",
       "      <td>32</td>\n",
       "      <td>₹51,990</td>\n",
       "      <td>15.6</td>\n",
       "      <td>512</td>\n",
       "    </tr>\n",
       "    <tr>\n",
       "      <th>9</th>\n",
       "      <td>Lenovo</td>\n",
       "      <td>4.2</td>\n",
       "      <td>7,088</td>\n",
       "      <td>652</td>\n",
       "      <td>₹36,990</td>\n",
       "      <td>15.6</td>\n",
       "      <td>512</td>\n",
       "    </tr>\n",
       "    <tr>\n",
       "      <th>10</th>\n",
       "      <td>realme</td>\n",
       "      <td>3.9</td>\n",
       "      <td>144</td>\n",
       "      <td>18</td>\n",
       "      <td>₹47,999</td>\n",
       "      <td>14</td>\n",
       "      <td>512</td>\n",
       "    </tr>\n",
       "    <tr>\n",
       "      <th>11</th>\n",
       "      <td>Lenovo</td>\n",
       "      <td>3.8</td>\n",
       "      <td>18</td>\n",
       "      <td>NaN</td>\n",
       "      <td>₹36,990</td>\n",
       "      <td>15.6</td>\n",
       "      <td>512</td>\n",
       "    </tr>\n",
       "    <tr>\n",
       "      <th>12</th>\n",
       "      <td>HP</td>\n",
       "      <td>4.3</td>\n",
       "      <td>1,737</td>\n",
       "      <td>126</td>\n",
       "      <td>₹55,990</td>\n",
       "      <td>15.6</td>\n",
       "      <td>512</td>\n",
       "    </tr>\n",
       "    <tr>\n",
       "      <th>13</th>\n",
       "      <td>ASUS</td>\n",
       "      <td>4.3</td>\n",
       "      <td>6,091</td>\n",
       "      <td>597</td>\n",
       "      <td>₹31,990</td>\n",
       "      <td>15.6</td>\n",
       "      <td>256</td>\n",
       "    </tr>\n",
       "    <tr>\n",
       "      <th>14</th>\n",
       "      <td>HP</td>\n",
       "      <td>4.1</td>\n",
       "      <td>383</td>\n",
       "      <td>26</td>\n",
       "      <td>₹38,990</td>\n",
       "      <td>15.6</td>\n",
       "      <td>512</td>\n",
       "    </tr>\n",
       "    <tr>\n",
       "      <th>15</th>\n",
       "      <td>HP</td>\n",
       "      <td>4</td>\n",
       "      <td>1,919</td>\n",
       "      <td>167</td>\n",
       "      <td>₹31,990</td>\n",
       "      <td>15.6</td>\n",
       "      <td>512</td>\n",
       "    </tr>\n",
       "    <tr>\n",
       "      <th>16</th>\n",
       "      <td>Lenovo</td>\n",
       "      <td>4.3</td>\n",
       "      <td>2,426</td>\n",
       "      <td>252</td>\n",
       "      <td>₹44,800</td>\n",
       "      <td>NaN</td>\n",
       "      <td>512</td>\n",
       "    </tr>\n",
       "    <tr>\n",
       "      <th>17</th>\n",
       "      <td>Lenovo</td>\n",
       "      <td>4.5</td>\n",
       "      <td>53</td>\n",
       "      <td>12</td>\n",
       "      <td>₹78,990</td>\n",
       "      <td>15.6</td>\n",
       "      <td>512</td>\n",
       "    </tr>\n",
       "    <tr>\n",
       "      <th>18</th>\n",
       "      <td>MSI</td>\n",
       "      <td>4.4</td>\n",
       "      <td>539</td>\n",
       "      <td>74</td>\n",
       "      <td>₹61,990</td>\n",
       "      <td>15.6</td>\n",
       "      <td>512</td>\n",
       "    </tr>\n",
       "    <tr>\n",
       "      <th>19</th>\n",
       "      <td>DELL</td>\n",
       "      <td>4.1</td>\n",
       "      <td>186</td>\n",
       "      <td>23</td>\n",
       "      <td>₹55,760</td>\n",
       "      <td>15.6</td>\n",
       "      <td>512</td>\n",
       "    </tr>\n",
       "    <tr>\n",
       "      <th>20</th>\n",
       "      <td>realme</td>\n",
       "      <td>4.3</td>\n",
       "      <td>55</td>\n",
       "      <td>NaN</td>\n",
       "      <td>₹47,999</td>\n",
       "      <td>14</td>\n",
       "      <td>512</td>\n",
       "    </tr>\n",
       "    <tr>\n",
       "      <th>21</th>\n",
       "      <td>Lenovo</td>\n",
       "      <td>4</td>\n",
       "      <td>259</td>\n",
       "      <td>26</td>\n",
       "      <td>₹38,990</td>\n",
       "      <td>NaN</td>\n",
       "      <td>512</td>\n",
       "    </tr>\n",
       "    <tr>\n",
       "      <th>22</th>\n",
       "      <td>HP</td>\n",
       "      <td>4.3</td>\n",
       "      <td>3,800</td>\n",
       "      <td>311</td>\n",
       "      <td>₹37,990</td>\n",
       "      <td>14</td>\n",
       "      <td>256</td>\n",
       "    </tr>\n",
       "    <tr>\n",
       "      <th>23</th>\n",
       "      <td>Acer</td>\n",
       "      <td>4.2</td>\n",
       "      <td>233</td>\n",
       "      <td>32</td>\n",
       "      <td>₹54,990</td>\n",
       "      <td>15.6</td>\n",
       "      <td>512</td>\n",
       "    </tr>\n",
       "  </tbody>\n",
       "</table>\n",
       "</div>"
      ],
      "text/plain": [
       "      Brand Rating No.of Ratings No.of Reviews    Price Screen size  SSD\n",
       "0    realme    4.4        14,640         2,087  ₹36,999          14  256\n",
       "1    realme    4.3           346            57  ₹56,999          14  512\n",
       "2      ASUS    4.3         6,091           597  ₹34,990        15.6  512\n",
       "3      ASUS    4.3         3,022           237  ₹42,990        15.6  512\n",
       "4   Infinix    4.6            27           NaN  ₹40,990          14  512\n",
       "5     APPLE    4.7        11,480           992  ₹81,990        13.3  256\n",
       "6    Lenovo    4.2           530            66  ₹34,990        15.6  512\n",
       "7    Lenovo    4.3         2,426           252  ₹47,990        15.6  512\n",
       "8      Acer    4.2           233            32  ₹51,990        15.6  512\n",
       "9    Lenovo    4.2         7,088           652  ₹36,990        15.6  512\n",
       "10   realme    3.9           144            18  ₹47,999          14  512\n",
       "11   Lenovo    3.8            18           NaN  ₹36,990        15.6  512\n",
       "12       HP    4.3         1,737           126  ₹55,990        15.6  512\n",
       "13     ASUS    4.3         6,091           597  ₹31,990        15.6  256\n",
       "14       HP    4.1           383            26  ₹38,990        15.6  512\n",
       "15       HP      4         1,919           167  ₹31,990        15.6  512\n",
       "16   Lenovo    4.3         2,426           252  ₹44,800         NaN  512\n",
       "17   Lenovo    4.5            53            12  ₹78,990        15.6  512\n",
       "18      MSI    4.4           539            74  ₹61,990        15.6  512\n",
       "19     DELL    4.1           186            23  ₹55,760        15.6  512\n",
       "20   realme    4.3            55           NaN  ₹47,999          14  512\n",
       "21   Lenovo      4           259            26  ₹38,990         NaN  512\n",
       "22       HP    4.3         3,800           311  ₹37,990          14  256\n",
       "23     Acer    4.2           233            32  ₹54,990        15.6  512"
      ]
     },
     "execution_count": 36,
     "metadata": {},
     "output_type": "execute_result"
    }
   ],
   "source": [
    "df"
   ]
  },
  {
   "cell_type": "code",
   "execution_count": 37,
   "id": "eae64d5a",
   "metadata": {},
   "outputs": [],
   "source": [
    "df.to_csv(\"Laptops.csv\")"
   ]
  }
 ],
 "metadata": {
  "kernelspec": {
   "display_name": "Python 3 (ipykernel)",
   "language": "python",
   "name": "python3"
  },
  "language_info": {
   "codemirror_mode": {
    "name": "ipython",
    "version": 3
   },
   "file_extension": ".py",
   "mimetype": "text/x-python",
   "name": "python",
   "nbconvert_exporter": "python",
   "pygments_lexer": "ipython3",
   "version": "3.10.9"
  }
 },
 "nbformat": 4,
 "nbformat_minor": 5
}
